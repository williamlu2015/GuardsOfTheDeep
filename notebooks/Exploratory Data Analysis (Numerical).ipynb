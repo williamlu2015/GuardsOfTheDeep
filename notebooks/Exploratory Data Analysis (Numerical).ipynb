{
 "cells": [
  {
   "cell_type": "code",
   "execution_count": 96,
   "metadata": {},
   "outputs": [],
   "source": [
    "import matplotlib.pyplot as plt\n",
    "import numpy as np\n",
    "import pandas as pd\n",
    "\n",
    "from math import cos, isnan, inf, sin"
   ]
  },
  {
   "cell_type": "code",
   "execution_count": 20,
   "metadata": {},
   "outputs": [],
   "source": [
    "pd.set_option(\"display.float_format\", \"{:.4f}\".format)"
   ]
  },
  {
   "cell_type": "code",
   "execution_count": 2,
   "metadata": {},
   "outputs": [],
   "source": [
    "df = pd.read_csv(\"../dataset/dataset.csv\", sep=\",\", dtype={\n",
    "    \"apiUrl\": str,\n",
    "    \"bodyText\": str,\n",
    "    \"byline\": str,\n",
    "    \"charCount\": int,\n",
    "    \"firstPublicationDate\": str,\n",
    "    \"headline\": str,\n",
    "    \"lastModified\": str,\n",
    "    \"productionOffice\": str,\n",
    "    \"starRating\": float,   # for NaN\n",
    "    \"trailText\": str,\n",
    "    \"wordcount\": int\n",
    "}, parse_dates=[\n",
    "    \"firstPublicationDate\",\n",
    "    \"lastModified\"\n",
    "], date_parser=pd.to_datetime)"
   ]
  },
  {
   "cell_type": "code",
   "execution_count": 16,
   "metadata": {},
   "outputs": [
    {
     "data": {
      "text/plain": [
       "(2057983, 13)"
      ]
     },
     "execution_count": 16,
     "metadata": {},
     "output_type": "execute_result"
    }
   ],
   "source": [
    "df.shape"
   ]
  },
  {
   "cell_type": "code",
   "execution_count": 17,
   "metadata": {
    "scrolled": true
   },
   "outputs": [
    {
     "data": {
      "text/plain": [
       "26753779"
      ]
     },
     "execution_count": 17,
     "metadata": {},
     "output_type": "execute_result"
    }
   ],
   "source": [
    "df.size"
   ]
  },
  {
   "cell_type": "code",
   "execution_count": 18,
   "metadata": {},
   "outputs": [
    {
     "data": {
      "text/html": [
       "<div>\n",
       "<style scoped>\n",
       "    .dataframe tbody tr th:only-of-type {\n",
       "        vertical-align: middle;\n",
       "    }\n",
       "\n",
       "    .dataframe tbody tr th {\n",
       "        vertical-align: top;\n",
       "    }\n",
       "\n",
       "    .dataframe thead th {\n",
       "        text-align: right;\n",
       "    }\n",
       "</style>\n",
       "<table border=\"1\" class=\"dataframe\">\n",
       "  <thead>\n",
       "    <tr style=\"text-align: right;\">\n",
       "      <th></th>\n",
       "      <th>apiUrl</th>\n",
       "      <th>bodyText</th>\n",
       "      <th>byline</th>\n",
       "      <th>charCount</th>\n",
       "      <th>firstPublicationDate</th>\n",
       "      <th>headline</th>\n",
       "      <th>lastModified</th>\n",
       "      <th>productionOffice</th>\n",
       "      <th>sectionId</th>\n",
       "      <th>starRating</th>\n",
       "      <th>trailText</th>\n",
       "      <th>webUrl</th>\n",
       "      <th>wordCount</th>\n",
       "    </tr>\n",
       "  </thead>\n",
       "  <tbody>\n",
       "    <tr>\n",
       "      <th>0</th>\n",
       "      <td>https://content.guardianapis.com/fashion/galle...</td>\n",
       "      <td>NaN</td>\n",
       "      <td>Stylist: Melanie Wilkinson. Photography: David...</td>\n",
       "      <td>0</td>\n",
       "      <td>NaT</td>\n",
       "      <td>Metallics: all ages fashion – in pictures</td>\n",
       "      <td>2018-07-02 14:40:39</td>\n",
       "      <td>UK</td>\n",
       "      <td>fashion</td>\n",
       "      <td>nan</td>\n",
       "      <td>&lt;p&gt;How to shine in metallics. Stylist: &lt;strong...</td>\n",
       "      <td>https://www.theguardian.com/fashion/gallery/00...</td>\n",
       "      <td>0</td>\n",
       "    </tr>\n",
       "    <tr>\n",
       "      <th>1</th>\n",
       "      <td>https://content.guardianapis.com/fashion/galle...</td>\n",
       "      <td>NaN</td>\n",
       "      <td>NaN</td>\n",
       "      <td>0</td>\n",
       "      <td>NaT</td>\n",
       "      <td>Fit-and-flare skirts: Get the look - in pictures</td>\n",
       "      <td>2018-07-02 14:40:39</td>\n",
       "      <td>UK</td>\n",
       "      <td>fashion</td>\n",
       "      <td>nan</td>\n",
       "      <td>&lt;p&gt;So you've read our fashion editor's column ...</td>\n",
       "      <td>https://www.theguardian.com/fashion/gallery/00...</td>\n",
       "      <td>0</td>\n",
       "    </tr>\n",
       "    <tr>\n",
       "      <th>2</th>\n",
       "      <td>https://content.guardianapis.com/education/001...</td>\n",
       "      <td>While English remains the common language of b...</td>\n",
       "      <td>Janet Murray</td>\n",
       "      <td>10367</td>\n",
       "      <td>NaT</td>\n",
       "      <td>Learning languages is key to UK's success in t...</td>\n",
       "      <td>2014-06-19 13:39:56</td>\n",
       "      <td>UK</td>\n",
       "      <td>education</td>\n",
       "      <td>nan</td>\n",
       "      <td>&lt;p&gt;The under-resourced teaching of foreign lan...</td>\n",
       "      <td>https://www.theguardian.com/education/0014/jun...</td>\n",
       "      <td>1631</td>\n",
       "    </tr>\n",
       "    <tr>\n",
       "      <th>3</th>\n",
       "      <td>https://content.guardianapis.com/uk/1805/nov/1...</td>\n",
       "      <td>No further accounts reached the Admiralty yest...</td>\n",
       "      <td>Leader</td>\n",
       "      <td>1859</td>\n",
       "      <td>NaT</td>\n",
       "      <td>Death of Nelson</td>\n",
       "      <td>2014-03-10 11:30:56</td>\n",
       "      <td>UK</td>\n",
       "      <td>uk-news</td>\n",
       "      <td>nan</td>\n",
       "      <td>&lt;p&gt;No further accounts reached the Admiralty y...</td>\n",
       "      <td>https://www.theguardian.com/uk/1805/nov/10/mil...</td>\n",
       "      <td>318</td>\n",
       "    </tr>\n",
       "    <tr>\n",
       "      <th>4</th>\n",
       "      <td>https://content.guardianapis.com/news/1821/may...</td>\n",
       "      <td>In a huge gain for commerce and administration...</td>\n",
       "      <td>NaN</td>\n",
       "      <td>2530</td>\n",
       "      <td>NaT</td>\n",
       "      <td>Post haste - at eleven miles per hour</td>\n",
       "      <td>2006-05-26 01:20:24</td>\n",
       "      <td>UK</td>\n",
       "      <td>theguardian</td>\n",
       "      <td>nan</td>\n",
       "      <td>&lt;b&gt;From the archive: &lt;/b&gt;On this day in 1821, ...</td>\n",
       "      <td>https://www.theguardian.com/news/1821/may/26/m...</td>\n",
       "      <td>427</td>\n",
       "    </tr>\n",
       "  </tbody>\n",
       "</table>\n",
       "</div>"
      ],
      "text/plain": [
       "                                              apiUrl  \\\n",
       "0  https://content.guardianapis.com/fashion/galle...   \n",
       "1  https://content.guardianapis.com/fashion/galle...   \n",
       "2  https://content.guardianapis.com/education/001...   \n",
       "3  https://content.guardianapis.com/uk/1805/nov/1...   \n",
       "4  https://content.guardianapis.com/news/1821/may...   \n",
       "\n",
       "                                            bodyText  \\\n",
       "0                                                NaN   \n",
       "1                                                NaN   \n",
       "2  While English remains the common language of b...   \n",
       "3  No further accounts reached the Admiralty yest...   \n",
       "4  In a huge gain for commerce and administration...   \n",
       "\n",
       "                                              byline  charCount  \\\n",
       "0  Stylist: Melanie Wilkinson. Photography: David...          0   \n",
       "1                                                NaN          0   \n",
       "2                                       Janet Murray      10367   \n",
       "3                                             Leader       1859   \n",
       "4                                                NaN       2530   \n",
       "\n",
       "  firstPublicationDate                                           headline  \\\n",
       "0                  NaT          Metallics: all ages fashion – in pictures   \n",
       "1                  NaT   Fit-and-flare skirts: Get the look - in pictures   \n",
       "2                  NaT  Learning languages is key to UK's success in t...   \n",
       "3                  NaT                                    Death of Nelson   \n",
       "4                  NaT              Post haste - at eleven miles per hour   \n",
       "\n",
       "         lastModified productionOffice    sectionId  starRating  \\\n",
       "0 2018-07-02 14:40:39               UK      fashion         nan   \n",
       "1 2018-07-02 14:40:39               UK      fashion         nan   \n",
       "2 2014-06-19 13:39:56               UK    education         nan   \n",
       "3 2014-03-10 11:30:56               UK      uk-news         nan   \n",
       "4 2006-05-26 01:20:24               UK  theguardian         nan   \n",
       "\n",
       "                                           trailText  \\\n",
       "0  <p>How to shine in metallics. Stylist: <strong...   \n",
       "1  <p>So you've read our fashion editor's column ...   \n",
       "2  <p>The under-resourced teaching of foreign lan...   \n",
       "3  <p>No further accounts reached the Admiralty y...   \n",
       "4  <b>From the archive: </b>On this day in 1821, ...   \n",
       "\n",
       "                                              webUrl  wordCount  \n",
       "0  https://www.theguardian.com/fashion/gallery/00...          0  \n",
       "1  https://www.theguardian.com/fashion/gallery/00...          0  \n",
       "2  https://www.theguardian.com/education/0014/jun...       1631  \n",
       "3  https://www.theguardian.com/uk/1805/nov/10/mil...        318  \n",
       "4  https://www.theguardian.com/news/1821/may/26/m...        427  "
      ]
     },
     "execution_count": 18,
     "metadata": {},
     "output_type": "execute_result"
    }
   ],
   "source": [
    "df.head()"
   ]
  },
  {
   "cell_type": "code",
   "execution_count": 21,
   "metadata": {},
   "outputs": [
    {
     "data": {
      "text/html": [
       "<div>\n",
       "<style scoped>\n",
       "    .dataframe tbody tr th:only-of-type {\n",
       "        vertical-align: middle;\n",
       "    }\n",
       "\n",
       "    .dataframe tbody tr th {\n",
       "        vertical-align: top;\n",
       "    }\n",
       "\n",
       "    .dataframe thead th {\n",
       "        text-align: right;\n",
       "    }\n",
       "</style>\n",
       "<table border=\"1\" class=\"dataframe\">\n",
       "  <thead>\n",
       "    <tr style=\"text-align: right;\">\n",
       "      <th></th>\n",
       "      <th>charCount</th>\n",
       "      <th>starRating</th>\n",
       "      <th>wordCount</th>\n",
       "    </tr>\n",
       "  </thead>\n",
       "  <tbody>\n",
       "    <tr>\n",
       "      <th>count</th>\n",
       "      <td>2057983.0000</td>\n",
       "      <td>63362.0000</td>\n",
       "      <td>2057983.0000</td>\n",
       "    </tr>\n",
       "    <tr>\n",
       "      <th>mean</th>\n",
       "      <td>3867.8004</td>\n",
       "      <td>3.3849</td>\n",
       "      <td>660.5728</td>\n",
       "    </tr>\n",
       "    <tr>\n",
       "      <th>std</th>\n",
       "      <td>3827.5825</td>\n",
       "      <td>0.8708</td>\n",
       "      <td>668.5575</td>\n",
       "    </tr>\n",
       "    <tr>\n",
       "      <th>min</th>\n",
       "      <td>0.0000</td>\n",
       "      <td>0.0000</td>\n",
       "      <td>0.0000</td>\n",
       "    </tr>\n",
       "    <tr>\n",
       "      <th>25%</th>\n",
       "      <td>1887.0000</td>\n",
       "      <td>3.0000</td>\n",
       "      <td>319.0000</td>\n",
       "    </tr>\n",
       "    <tr>\n",
       "      <th>50%</th>\n",
       "      <td>3218.0000</td>\n",
       "      <td>3.0000</td>\n",
       "      <td>545.0000</td>\n",
       "    </tr>\n",
       "    <tr>\n",
       "      <th>75%</th>\n",
       "      <td>4825.0000</td>\n",
       "      <td>4.0000</td>\n",
       "      <td>820.0000</td>\n",
       "    </tr>\n",
       "    <tr>\n",
       "      <th>max</th>\n",
       "      <td>256048.0000</td>\n",
       "      <td>5.0000</td>\n",
       "      <td>43568.0000</td>\n",
       "    </tr>\n",
       "  </tbody>\n",
       "</table>\n",
       "</div>"
      ],
      "text/plain": [
       "         charCount  starRating    wordCount\n",
       "count 2057983.0000  63362.0000 2057983.0000\n",
       "mean     3867.8004      3.3849     660.5728\n",
       "std      3827.5825      0.8708     668.5575\n",
       "min         0.0000      0.0000       0.0000\n",
       "25%      1887.0000      3.0000     319.0000\n",
       "50%      3218.0000      3.0000     545.0000\n",
       "75%      4825.0000      4.0000     820.0000\n",
       "max    256048.0000      5.0000   43568.0000"
      ]
     },
     "execution_count": 21,
     "metadata": {},
     "output_type": "execute_result"
    }
   ],
   "source": [
    "df.describe()"
   ]
  },
  {
   "cell_type": "code",
   "execution_count": 63,
   "metadata": {},
   "outputs": [
    {
     "data": {
      "text/plain": [
       "Text(0.5,1,'charCount')"
      ]
     },
     "execution_count": 63,
     "metadata": {},
     "output_type": "execute_result"
    },
    {
     "data": {
      "image/png": "[encoded data removed]",
      "text/plain": [
       "<Figure size 432x288 with 1 Axes>"
      ]
     },
     "metadata": {},
     "output_type": "display_data"
    }
   ],
   "source": [
    "counts = [0, 0, 0]\n",
    "for char_count in df[\"charCount\"]:\n",
    "    if char_count == 0:\n",
    "        counts[0] += 1\n",
    "    elif char_count < 10000:\n",
    "        counts[1] += 1\n",
    "    else:\n",
    "        assert char_count >= 10000\n",
    "        counts[2] += 1\n",
    "\n",
    "plt.pie(counts, labels=[\n",
    "    \"zero\", \"regular\", \"outlier (>= 10000)\"\n",
    "], autopct=\"%.2f%%\")\n",
    "\n",
    "plt.axis(\"equal\")\n",
    "plt.title(\"charCount\")"
   ]
  },
  {
   "cell_type": "code",
   "execution_count": 57,
   "metadata": {},
   "outputs": [
    {
     "data": {
      "text/plain": [
       "Text(0,0.5,'Frequency')"
      ]
     },
     "execution_count": 57,
     "metadata": {},
     "output_type": "execute_result"
    },
    {
     "data": {
      "image/png": "[encoded data removed]",
      "text/plain": [
       "<Figure size 432x288 with 1 Axes>"
      ]
     },
     "metadata": {
      "needs_background": "light"
     },
     "output_type": "display_data"
    }
   ],
   "source": [
    "char_counts = [\n",
    "    char_count for char_count in df[\"charCount\"]\n",
    "    if 0 < char_count < 10000\n",
    "]\n",
    "bins = list(range(0, 10000 + 1, 100))\n",
    "\n",
    "plt.hist(char_counts, bins=bins)\n",
    "plt.xlabel(\"charCount\")\n",
    "plt.ylabel(\"Frequency\")"
   ]
  },
  {
   "cell_type": "code",
   "execution_count": 48,
   "metadata": {},
   "outputs": [
    {
     "data": {
      "text/plain": [
       "Text(0.5,1,'starRating')"
      ]
     },
     "execution_count": 48,
     "metadata": {},
     "output_type": "execute_result"
    },
    {
     "data": {
      "image/png": "[encoded data removed]",
      "text/plain": [
       "<Figure size 432x288 with 1 Axes>"
      ]
     },
     "metadata": {},
     "output_type": "display_data"
    }
   ],
   "source": [
    "counts = [0, 0]\n",
    "for star_rating in df[\"starRating\"]:\n",
    "    if isnan(star_rating):\n",
    "        counts[1] += 1\n",
    "    else:\n",
    "        counts[0] += 1\n",
    "\n",
    "plt.pie(counts, labels=[\n",
    "    \"regular\", \"NaN\"\n",
    "], autopct=\"%.2f%%\")\n",
    "\n",
    "plt.axis(\"equal\")\n",
    "plt.title(\"starRating\")"
   ]
  },
  {
   "cell_type": "code",
   "execution_count": 54,
   "metadata": {},
   "outputs": [
    {
     "data": {
      "text/plain": [
       "Text(0.5,1,'starRating')"
      ]
     },
     "execution_count": 54,
     "metadata": {},
     "output_type": "execute_result"
    },
    {
     "data": {
      "image/png": "[encoded data removed]",
      "text/plain": [
       "<Figure size 432x288 with 1 Axes>"
      ]
     },
     "metadata": {},
     "output_type": "display_data"
    }
   ],
   "source": [
    "counts = [0, 0, 0, 0, 0]\n",
    "for star_rating in df[\"starRating\"]:\n",
    "    if isnan(star_rating):\n",
    "        continue\n",
    "    counts[int(star_rating) - 1] += 1\n",
    "\n",
    "plt.pie(counts, labels=[\n",
    "    \"1\", \"2\", \"3\", \"4\", \"5\"\n",
    "], autopct=\"%.2f%%\")\n",
    "\n",
    "plt.axis(\"equal\")\n",
    "plt.title(\"starRating\")"
   ]
  },
  {
   "cell_type": "code",
   "execution_count": 66,
   "metadata": {},
   "outputs": [
    {
     "data": {
      "text/plain": [
       "Text(0.5,1,'wordCount')"
      ]
     },
     "execution_count": 66,
     "metadata": {},
     "output_type": "execute_result"
    },
    {
     "data": {
      "image/png": "[encoded data removed]",
      "text/plain": [
       "<Figure size 432x288 with 1 Axes>"
      ]
     },
     "metadata": {},
     "output_type": "display_data"
    }
   ],
   "source": [
    "counts = [0, 0, 0]\n",
    "for word_count in df[\"wordCount\"]:\n",
    "    if word_count == 0:\n",
    "        counts[0] += 1\n",
    "    elif word_count < 2000:\n",
    "        counts[1] += 1\n",
    "    else:\n",
    "        assert word_count >= 2000\n",
    "        counts[2] += 1\n",
    "\n",
    "plt.pie(counts, labels=[\n",
    "    \"zero\", \"regular\", \"outlier (>= 2000)\"\n",
    "], autopct=\"%.2f%%\")\n",
    "\n",
    "plt.axis(\"equal\")\n",
    "plt.title(\"wordCount\")"
   ]
  },
  {
   "cell_type": "code",
   "execution_count": 104,
   "metadata": {},
   "outputs": [
    {
     "data": {
      "text/plain": [
       "Text(0,0.5,'Frequency')"
      ]
     },
     "execution_count": 104,
     "metadata": {},
     "output_type": "execute_result"
    },
    {
     "data": {
      "image/png": "[encoded data removed]",
      "text/plain": [
       "<Figure size 432x288 with 1 Axes>"
      ]
     },
     "metadata": {
      "needs_background": "light"
     },
     "output_type": "display_data"
    }
   ],
   "source": [
    "word_counts = [\n",
    "    word_count for word_count in df[\"wordCount\"]\n",
    "    if 0 < word_count < 2000\n",
    "]\n",
    "bins = list(range(0, 2000 + 1, 20))\n",
    "\n",
    "plt.hist(word_counts, bins=bins)\n",
    "plt.xlabel(\"wordCount\")\n",
    "plt.ylabel(\"Frequency\")"
   ]
  },
  {
   "cell_type": "code",
   "execution_count": 69,
   "metadata": {},
   "outputs": [
    {
     "data": {
      "text/plain": [
       "Text(0,0.5,'charCount')"
      ]
     },
     "execution_count": 69,
     "metadata": {},
     "output_type": "execute_result"
    },
    {
     "data": {
      "image/png": "[encoded data removed]",
      "text/plain": [
       "<Figure size 432x288 with 1 Axes>"
      ]
     },
     "metadata": {
      "needs_background": "light"
     },
     "output_type": "display_data"
    }
   ],
   "source": [
    "plt.scatter(df[\"wordCount\"], df[\"charCount\"])\n",
    "plt.xlabel(\"wordCount\")\n",
    "plt.ylabel(\"charCount\")"
   ]
  },
  {
   "cell_type": "code",
   "execution_count": 81,
   "metadata": {},
   "outputs": [
    {
     "data": {
      "text/plain": [
       "count   1977079.0000\n",
       "mean          5.9464\n",
       "std          12.1452\n",
       "min           0.0000\n",
       "25%           5.7134\n",
       "50%           5.8964\n",
       "75%           6.0766\n",
       "max       10852.0000\n",
       "dtype: float64"
      ]
     },
     "execution_count": 81,
     "metadata": {},
     "output_type": "execute_result"
    }
   ],
   "source": [
    "nonzero_indices, = df[\"wordCount\"].nonzero()\n",
    "char_counts = df[\"charCount\"].iloc[nonzero_indices]\n",
    "word_counts = df[\"wordCount\"].iloc[nonzero_indices]\n",
    "\n",
    "chars_per_word = char_counts / word_counts\n",
    "chars_per_word.describe()"
   ]
  },
  {
   "cell_type": "code",
   "execution_count": 102,
   "metadata": {},
   "outputs": [
    {
     "data": {
      "text/plain": [
       "'Low outlier (< 5): 0.34%'"
      ]
     },
     "metadata": {},
     "output_type": "display_data"
    },
    {
     "data": {
      "text/plain": [
       "'Regular: 99.39%'"
      ]
     },
     "metadata": {},
     "output_type": "display_data"
    },
    {
     "data": {
      "text/plain": [
       "'High outlier (>= 7): 0.27%'"
      ]
     },
     "metadata": {},
     "output_type": "display_data"
    }
   ],
   "source": [
    "nonzero_indices, = df[\"wordCount\"].nonzero()\n",
    "char_counts = df[\"charCount\"].iloc[nonzero_indices]\n",
    "word_counts = df[\"wordCount\"].iloc[nonzero_indices]\n",
    "\n",
    "chars_per_word = char_counts / word_counts\n",
    "\n",
    "counts = [0, 0, 0]\n",
    "for value in chars_per_word:\n",
    "    if value < 5:\n",
    "        counts[0] += 1\n",
    "    elif 5 <= value < 7:\n",
    "        counts[1] += 1\n",
    "    else:\n",
    "        assert value >= 7\n",
    "        counts[2] += 1\n",
    "\n",
    "display(\"Low outlier (< 5): \" + \"{:.2%}\".format(counts[0] / len(chars_per_word)))\n",
    "display(\"Regular: \" + \"{:.2%}\".format(counts[1] / len(chars_per_word)))\n",
    "display(\"High outlier (>= 7): \" + \"{:.2%}\".format(counts[2] / len(chars_per_word)))"
   ]
  },
  {
   "cell_type": "code",
   "execution_count": 79,
   "metadata": {},
   "outputs": [
    {
     "data": {
      "text/plain": [
       "([<matplotlib.axis.XTick at 0x118781a90>,\n",
       "  <matplotlib.axis.XTick at 0x118781400>,\n",
       "  <matplotlib.axis.XTick at 0x1187812e8>,\n",
       "  <matplotlib.axis.XTick at 0x11ceb4208>,\n",
       "  <matplotlib.axis.XTick at 0x11ceb46a0>,\n",
       "  <matplotlib.axis.XTick at 0x11ceb4b70>,\n",
       "  <matplotlib.axis.XTick at 0x11ceb47f0>,\n",
       "  <matplotlib.axis.XTick at 0x11d0b1198>,\n",
       "  <matplotlib.axis.XTick at 0x11d0b16a0>,\n",
       "  <matplotlib.axis.XTick at 0x11d0b1ba8>,\n",
       "  <matplotlib.axis.XTick at 0x11d0b4160>],\n",
       " <a list of 11 Text xticklabel objects>)"
      ]
     },
     "execution_count": 79,
     "metadata": {},
     "output_type": "execute_result"
    },
    {
     "data": {
      "image/png": "[encoded data removed]",
      "text/plain": [
       "<Figure size 432x288 with 1 Axes>"
      ]
     },
     "metadata": {
      "needs_background": "light"
     },
     "output_type": "display_data"
    }
   ],
   "source": [
    "nonzero_indices, = df[\"wordCount\"].nonzero()\n",
    "char_counts = df[\"charCount\"].iloc[nonzero_indices]\n",
    "word_counts = df[\"wordCount\"].iloc[nonzero_indices]\n",
    "\n",
    "chars_per_word = char_counts / word_counts\n",
    "\n",
    "plt.hist(chars_per_word, bins=np.linspace(5, 7, 20 + 1))\n",
    "plt.xlabel(\"Characters per word\")\n",
    "plt.ylabel(\"Frequency\")\n",
    "plt.xticks(np.linspace(5, 7, 10 + 1))"
   ]
  },
  {
   "cell_type": "code",
   "execution_count": null,
   "metadata": {},
   "outputs": [],
   "source": []
  }
 ],
 "metadata": {
  "kernelspec": {
   "display_name": "Python 3",
   "language": "python",
   "name": "python3"
  },
  "language_info": {
   "codemirror_mode": {
    "name": "ipython",
    "version": 3
   },
   "file_extension": ".py",
   "mimetype": "text/x-python",
   "name": "python",
   "nbconvert_exporter": "python",
   "pygments_lexer": "ipython3",
   "version": "3.6.2"
  }
 },
 "nbformat": 4,
 "nbformat_minor": 2
}
