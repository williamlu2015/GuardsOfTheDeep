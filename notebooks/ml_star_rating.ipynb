{
 "cells": [
  {
   "cell_type": "code",
   "execution_count": 18,
   "metadata": {},
   "outputs": [],
   "source": [
    "from ipynb.fs.full.data_loader import load_data\n",
    "from sklearn.ensemble import RandomForestClassifier\n",
    "from sklearn.feature_extraction.text import CountVectorizer\n",
    "from sklearn.metrics import accuracy_score\n",
    "from sklearn.model_selection import KFold\n",
    "from sys import maxsize"
   ]
  },
  {
   "cell_type": "code",
   "execution_count": 3,
   "metadata": {},
   "outputs": [],
   "source": [
    "df = load_data()"
   ]
  },
  {
   "cell_type": "code",
   "execution_count": 10,
   "metadata": {},
   "outputs": [],
   "source": [
    "df_filtered = df[\n",
    "    df[\"starRating\"].notna()\n",
    "]"
   ]
  },
  {
   "cell_type": "code",
   "execution_count": null,
   "metadata": {
    "scrolled": true
   },
   "outputs": [],
   "source": [
    "accuracies = []\n",
    "\n",
    "kf = KFold(n_splits=5, shuffle=True, random_state=1731)\n",
    "for train_indices, test_indices in kf.split(df_filtered):\n",
    "    df_train = df_filtered.iloc[train_indices, :]\n",
    "    df_test = df_filtered.iloc[test_indices, :]\n",
    "    \n",
    "    vectorizer = CountVectorizer(stop_words=None, ngram_range=(1, 1), min_df=1)\n",
    "    X_train = vectorizer.fit_transform(df_train[\"bodyText\"])\n",
    "    X_test = vectorizer.transform(df_test[\"bodyText\"])\n",
    "    \n",
    "    y_train = df_train[\"starRating\"].astype(int)\n",
    "    y_test = df_test[\"starRating\"].astype(int)\n",
    "    \n",
    "    classifier = RandomForestClassifier(\n",
    "        n_estimators=100, criterion=\"gini\", n_jobs=-1, random_state=1731, verbose=maxsize, class_weight=None\n",
    "    )\n",
    "    classifier.fit(X_train, y_train)\n",
    "    y_pred = classifier.predict(X_test)\n",
    "    \n",
    "    accuracy = accuracy_score(y_test, y_pred)\n",
    "    accuracies.append(accuracy)"
   ]
  },
  {
   "cell_type": "code",
   "execution_count": 22,
   "metadata": {},
   "outputs": [
    {
     "data": {
      "text/plain": [
       "[0.4997238222993766,\n",
       " 0.4993292827270575,\n",
       " 0.48903093434343436,\n",
       " 0.5056029040404041,\n",
       " 0.4895833333333333]"
      ]
     },
     "execution_count": 22,
     "metadata": {},
     "output_type": "execute_result"
    }
   ],
   "source": [
    "accuracies"
   ]
  },
  {
   "cell_type": "code",
   "execution_count": null,
   "metadata": {},
   "outputs": [],
   "source": []
  }
 ],
 "metadata": {
  "kernelspec": {
   "display_name": "Python 3",
   "language": "python",
   "name": "python3"
  },
  "language_info": {
   "codemirror_mode": {
    "name": "ipython",
    "version": 3
   },
   "file_extension": ".py",
   "mimetype": "text/x-python",
   "name": "python",
   "nbconvert_exporter": "python",
   "pygments_lexer": "ipython3",
   "version": "3.6.2"
  }
 },
 "nbformat": 4,
 "nbformat_minor": 2
}
