{
 "cells": [
  {
   "cell_type": "code",
   "execution_count": 1,
   "metadata": {},
   "outputs": [],
   "source": [
    "import pandas as pd"
   ]
  },
  {
   "cell_type": "code",
   "execution_count": 2,
   "metadata": {},
   "outputs": [],
   "source": [
    "def load_data(): \n",
    "    df = pd.read_csv(\"../dataset/dataset.csv\", sep=\",\", dtype={\n",
    "        \"apiUrl\": str,\n",
    "        \"bodyText\": str,\n",
    "        \"byline\": str,\n",
    "        \"charCount\": int,\n",
    "        \"firstPublicationDate\": str,\n",
    "        \"headline\": str,\n",
    "        \"lastModified\": str,\n",
    "        \"productionOffice\": str,\n",
    "        \"sectionId\": str,\n",
    "        \"starRating\": float,   # for NaN\n",
    "        \"trailText\": str,\n",
    "        \"webUrl\": str,\n",
    "        \"wordcount\": int\n",
    "    }, parse_dates=[\n",
    "        \"firstPublicationDate\",\n",
    "        \"lastModified\"\n",
    "    ], date_parser=pd.to_datetime)\n",
    "    \n",
    "    return df"
   ]
  },
  {
   "cell_type": "code",
   "execution_count": null,
   "metadata": {},
   "outputs": [],
   "source": []
  }
 ],
 "metadata": {
  "kernelspec": {
   "display_name": "Python 3",
   "language": "python",
   "name": "python3"
  },
  "language_info": {
   "codemirror_mode": {
    "name": "ipython",
    "version": 3
   },
   "file_extension": ".py",
   "mimetype": "text/x-python",
   "name": "python",
   "nbconvert_exporter": "python",
   "pygments_lexer": "ipython3",
   "version": "3.6.2"
  }
 },
 "nbformat": 4,
 "nbformat_minor": 2
}
